{
 "cells": [
  {
   "cell_type": "markdown",
   "metadata": {},
   "source": [
    "# Generative Adversarial Networks in Slanted Land\n",
    "\n",
    "In this notebook, we build a very simple pair of GANs.\n",
    "- The dataset is a dataset of 2x2 black and white images, where the images we want to generate (the faces) are backwards diagonals (\\\\)\n",
    "- The neural networks only have one layer.\n",
    "\n",
    "* Below is the YouTube video corresponding to this notebook.\n",
    "* Made some changes to make we get Different Examples on Generation"
   ]
  },
  {
   "cell_type": "code",
   "execution_count": 1,
   "metadata": {},
   "outputs": [],
   "source": [
    "\"https://www.youtube.com/watch?v=8L11aMN5KY8\""
   ]
  },
  {
   "cell_type": "markdown",
   "metadata": {},
   "source": [
    "### Imports"
   ]
  },
  {
   "cell_type": "code",
   "execution_count": 2,
   "metadata": {},
   "outputs": [],
   "source": [
    "# Imports\n",
    "\n",
    "import numpy as np\n",
    "from numpy import random\n",
    "from matplotlib import pyplot as plt\n",
    "%matplotlib inline"
   ]
  },
  {
   "cell_type": "markdown",
   "metadata": {},
   "source": [
    "### Plotting function"
   ]
  },
  {
   "cell_type": "code",
   "execution_count": 3,
   "metadata": {},
   "outputs": [],
   "source": [
    "# Drawing function\n",
    "\n",
    "def view_samples(samples, m, n):\n",
    "    fig, axes = plt.subplots(figsize=(10, 10), nrows=m, ncols=n, sharey=True, sharex=True)\n",
    "    for ax, img in zip(axes.flatten(), samples):\n",
    "        ax.xaxis.set_visible(False)\n",
    "        ax.yaxis.set_visible(False)\n",
    "        im = ax.imshow(1-img.reshape((2,2)), cmap='Greys_r')  \n",
    "    return fig, axes"
   ]
  },
  {
   "cell_type": "markdown",
   "metadata": {},
   "source": [
    "# Examples of faces\n",
    "\n",
    "In the video, we've defined the faces as backwards diagonals. Here are some examples."
   ]
  },
  {
   "cell_type": "code",
   "execution_count": 4,
   "metadata": {},
   "outputs": [
    {
     "data": {
      "image/png": "[encoded data removed]",
      "text/plain": [
       "<Figure size 720x720 with 5 Axes>"
      ]
     },
     "metadata": {
      "needs_background": "light"
     },
     "output_type": "display_data"
    }
   ],
   "source": [
    "# Examples of faces\n",
    "faces = [np.array([1,0,0,1]),\n",
    "         np.array([0.9,0.1,0.2,0.8]),\n",
    "         np.array([0.9,0.2,0.1,0.8]),\n",
    "         np.array([0.8,0.1,0.2,0.9]),\n",
    "         np.array([0.8,0.2,0.1,0.9]),]\n",
    "    \n",
    "_ = view_samples(faces, 1, 5,)"
   ]
  },
  {
   "cell_type": "markdown",
   "metadata": {},
   "source": [
    "# Examples of noise\n",
    "The following are randomly generated images, which don't correspond to faces."
   ]
  },
  {
   "cell_type": "code",
   "execution_count": 5,
   "metadata": {},
   "outputs": [
    {
     "data": {
      "image/png": "[encoded data removed]",
      "text/plain": [
       "<Figure size 720x720 with 20 Axes>"
      ]
     },
     "metadata": {
      "needs_background": "light"
     },
     "output_type": "display_data"
    }
   ],
   "source": [
    "# Examples of noisy images\n",
    "noise = [np.random.randn(2,2) for i in range(20)]\n",
    "def generate_random_image():\n",
    "    return [np.random.random(), np.random.random(), np.random.random(), np.random.random()]\n",
    "\n",
    "_ = view_samples(noise, 4,5)"
   ]
  },
  {
   "cell_type": "markdown",
   "metadata": {},
   "source": [
    "# Building the neural networks"
   ]
  },
  {
   "cell_type": "code",
   "execution_count": 6,
   "metadata": {},
   "outputs": [],
   "source": [
    "# The sigmoid activation function\n",
    "def sigmoid(x):\n",
    "    return np.exp(x)/(1.0+np.exp(x))"
   ]
  },
  {
   "cell_type": "markdown",
   "metadata": {},
   "source": [
    "## The Discriminator\n",
    "\n",
    "<img src=\"discriminator_math.png\" />"
   ]
  },
  {
   "cell_type": "code",
   "execution_count": 7,
   "metadata": {},
   "outputs": [],
   "source": [
    "class Discriminator():\n",
    "    def __init__(self):\n",
    "        #self.weights = np.array([0.0 for i in range(4)])\n",
    "        #self.bias = 0.0\n",
    "        self.weights = np.array([np.random.normal() for i in range(4)])\n",
    "        self.bias = np.random.normal()\n",
    "    \n",
    "    def forward(self, x):\n",
    "        # Forward pass\n",
    "        return sigmoid(np.dot(x, self.weights) + self.bias)\n",
    "    \n",
    "    def error_from_image(self, image):\n",
    "        prediction = self.forward(image)\n",
    "        # We want the prediction to be 1, so the error is -log(prediction)\n",
    "        return -np.log(prediction)\n",
    "    \n",
    "    def derivatives_from_image(self, image):\n",
    "        prediction = self.forward(image)\n",
    "        derivatives_weights = -image * (1-prediction)\n",
    "        derivative_bias = -(1-prediction)\n",
    "        return derivatives_weights, derivative_bias\n",
    "    \n",
    "    def update_from_image(self, x):\n",
    "        ders = self.derivatives_from_image(x)\n",
    "        self.weights -= learning_rate * ders[0]\n",
    "        self.bias -= learning_rate * ders[1]\n",
    "\n",
    "    def error_from_noise(self, noise):\n",
    "        prediction = self.forward(noise)\n",
    "        # We want the prediction to be 0, so the error is -log(1-prediction)\n",
    "        return -np.log(1-prediction)\n",
    "    \n",
    "    def derivatives_from_noise(self, noise):\n",
    "        prediction = self.forward(noise)\n",
    "        derivatives_weights = noise * prediction\n",
    "        derivative_bias = prediction\n",
    "        return derivatives_weights, derivative_bias\n",
    "    \n",
    "    def update_from_noise(self, noise):\n",
    "        ders = self.derivatives_from_noise(noise)\n",
    "        self.weights -= learning_rate * ders[0]\n",
    "        self.bias -= learning_rate * ders[1]"
   ]
  },
  {
   "cell_type": "markdown",
   "metadata": {},
   "source": [
    "## The Generator\n",
    "<img src=\"generator_math.png\" />"
   ]
  },
  {
   "cell_type": "code",
   "execution_count": 8,
   "metadata": {},
   "outputs": [],
   "source": [
    "class Generator():\n",
    "    def __init__(self):\n",
    "        self.weights = np.array([np.random.normal() for i in range(4)])\n",
    "        self.biases = np.array([np.random.normal() for i in range(4)])\n",
    "\n",
    "    def forward(self, z):\n",
    "        # Forward pass\n",
    "        return sigmoid(z * self.weights + self.biases)\n",
    "\n",
    "    def error(self, z, discriminator):\n",
    "        x = self.forward(z)\n",
    "        # We want the prediction to be 0, so the error is -log(1-prediction)\n",
    "        y = discriminator.forward(x)\n",
    "        return -np.log(y)\n",
    "\n",
    "    def derivatives(self, z, discriminator):\n",
    "        discriminator_weights = discriminator.weights\n",
    "        discriminator_bias = discriminator.bias\n",
    "        x = self.forward(z)\n",
    "        y = discriminator.forward(x)\n",
    "        factor = -(1-y) * discriminator_weights * x *(1-x)\n",
    "        derivatives_weights = factor * z\n",
    "        derivative_bias = factor\n",
    "        return derivatives_weights, derivative_bias\n",
    "\n",
    "    def update(self, z, discriminator):\n",
    "        error_before = self.error(z, discriminator)\n",
    "        ders = self.derivatives(z, discriminator)\n",
    "        self.weights -= learning_rate * ders[0]\n",
    "        self.biases -= learning_rate * ders[1]\n",
    "        error_after = self.error(z, discriminator)"
   ]
  },
  {
   "cell_type": "markdown",
   "metadata": {},
   "source": [
    "# Training"
   ]
  },
  {
   "cell_type": "code",
   "execution_count": 9,
   "metadata": {},
   "outputs": [],
   "source": [
    "# Set random seed\n",
    "# np.random.seed(42)\n",
    "\n",
    "# Hyperparameters\n",
    "learning_rate = 0.01\n",
    "epochs = 10\n",
    "\n",
    "# The GAN\n",
    "D = Discriminator()\n",
    "G = Generator()\n",
    "\n",
    "# For the error plot\n",
    "errors_discriminator = []\n",
    "errors_generator = []\n",
    "\n",
    "for epoch in range(epochs):\n",
    "    \n",
    "    for face in faces:\n",
    "        \n",
    "        # Update the discriminator weights from the real face\n",
    "        D.update_from_image(face)\n",
    "    \n",
    "        # Pick a random number to generate a fake face\n",
    "        z = random.rand()\n",
    "\n",
    "        # Calculate the discriminator error\n",
    "        errors_discriminator.append(sum(D.error_from_image(face) + D.error_from_noise(z)))\n",
    "        \n",
    "        # Calculate the generator error\n",
    "        errors_generator.append(G.error(z, D))\n",
    "        \n",
    "        # Build a fake face\n",
    "        noise = G.forward(z)\n",
    "        \n",
    "        # Update the discriminator weights from the fake face\n",
    "        D.update_from_noise(noise)\n",
    "    \n",
    "        # Update the generator weights from the fake face\n",
    "        G.update(z, D)"
   ]
  },
  {
   "cell_type": "code",
   "execution_count": 10,
   "metadata": {
    "scrolled": true
   },
   "outputs": [
    {
     "data": {
      "image/png": "[encoded data removed]",
      "text/plain": [
       "<Figure size 432x288 with 1 Axes>"
      ]
     },
     "metadata": {
      "needs_background": "light"
     },
     "output_type": "display_data"
    },
    {
     "data": {
      "text/plain": [
       "Text(0.5, 1.0, 'Discriminator error function')"
      ]
     },
     "execution_count": 10,
     "metadata": {},
     "output_type": "execute_result"
    },
    {
     "data": {
      "image/png": "[encoded data removed]",
      "text/plain": [
       "<Figure size 432x288 with 1 Axes>"
      ]
     },
     "metadata": {
      "needs_background": "light"
     },
     "output_type": "display_data"
    }
   ],
   "source": [
    "import matplotlib.pyplot as plt\n",
    "plt.plot(errors_generator)\n",
    "plt.title(\"Generator error function\")\n",
    "plt.legend(\"gen\")\n",
    "plt.show()\n",
    "plt.plot(errors_discriminator)\n",
    "plt.legend('disc')\n",
    "plt.title(\"Discriminator error function\")"
   ]
  },
  {
   "cell_type": "markdown",
   "metadata": {},
   "source": [
    "# Generating images"
   ]
  },
  {
   "cell_type": "code",
   "execution_count": 11,
   "metadata": {},
   "outputs": [
    {
     "name": "stdout",
     "output_type": "stream",
     "text": [
      "0.28067723542567036\n",
      "0.39168524458120146\n",
      "0.905648245263958\n",
      "0.10001814135655451\n",
      "0.26375439821647584\n",
      "0.05751643841881693\n",
      "[0.28409968 0.43720621 0.82074171 0.83909915]\n",
      "[0.3042113  0.46271948 0.81594972 0.86192262]\n",
      "[0.40643668 0.58127058 0.7924715  0.93486063]\n",
      "[0.25314618 0.39644204 0.82833098 0.79558232]\n",
      "[0.28110507 0.43334242 0.82146361 0.83536377]\n",
      "[0.2461969  0.38703574 0.83007898 0.78415814]\n"
     ]
    },
    {
     "data": {
      "image/png": "[encoded data removed]",
      "text/plain": [
       "<Figure size 720x720 with 6 Axes>"
      ]
     },
     "metadata": {
      "needs_background": "light"
     },
     "output_type": "display_data"
    }
   ],
   "source": [
    "generated_images = []\n",
    "for i in range(6):\n",
    "    z = np.random.random()\n",
    "    print(z)\n",
    "    generated_image = G.forward(z)\n",
    "    generated_images.append(generated_image)\n",
    "_ = view_samples(generated_images, 1, 6)\n",
    "for i in generated_images:\n",
    "    print(i)"
   ]
  },
  {
   "cell_type": "code",
   "execution_count": 12,
   "metadata": {},
   "outputs": [
    {
     "name": "stdout",
     "output_type": "stream",
     "text": [
      "0.4390357526778117\n",
      "0.4528399149292588\n",
      "0.9566690873404319\n",
      "0.02202325099910374\n",
      "0.3136050514781362\n",
      "0.46353852266256235\n",
      "[0.31302947 0.47366983 0.81387573 0.87079987]\n",
      "[0.3156263  0.47686745 0.81326771 0.87329475]\n",
      "[0.41722326 0.59275876 0.7900242  0.93971605]\n",
      "[0.24049284 0.37924426 0.83152786 0.77426857]\n",
      "[0.28998126 0.44474569 0.81933054 0.84617062]\n",
      "[0.31764687 0.47934702 0.81279543 0.87519991]\n"
     ]
    },
    {
     "data": {
      "image/png": "[encoded data removed]",
      "text/plain": [
       "<Figure size 720x720 with 6 Axes>"
      ]
     },
     "metadata": {
      "needs_background": "light"
     },
     "output_type": "display_data"
    }
   ],
   "source": [
    "generated_images = []\n",
    "for i in range(6):\n",
    "    z = np.random.random()\n",
    "    print(z)\n",
    "    generated_image = G.forward(z)\n",
    "    generated_images.append(generated_image)\n",
    "_ = view_samples(generated_images, 1,6)\n",
    "for i in generated_images:\n",
    "    print(i)"
   ]
  },
  {
   "cell_type": "markdown",
   "metadata": {},
   "source": [
    "# Studying the weights and biases of the Generator and Discriminator"
   ]
  },
  {
   "cell_type": "code",
   "execution_count": 13,
   "metadata": {},
   "outputs": [
    {
     "name": "stdout",
     "output_type": "stream",
     "text": [
      "Generator weights [ 0.87284053  0.92884269 -0.29040205  1.61979973]\n",
      "Generator biases [-1.16920224 -0.51321333  1.60288998  1.1968996 ]\n"
     ]
    }
   ],
   "source": [
    "print(\"Generator weights\", G.weights)\n",
    "print(\"Generator biases\", G.biases)"
   ]
  },
  {
   "cell_type": "code",
   "execution_count": 14,
   "metadata": {},
   "outputs": [
    {
     "name": "stdout",
     "output_type": "stream",
     "text": [
      "Discriminator weights [ 1.68557489  0.11697349 -0.35937397 -1.39999906]\n",
      "Discriminator bias -1.0069645000550438\n"
     ]
    }
   ],
   "source": [
    "print(\"Discriminator weights\", D.weights)\n",
    "print(\"Discriminator bias\", D.bias)"
   ]
  },
  {
   "cell_type": "markdown",
   "metadata": {},
   "source": [
    "Generator weights [ 0.62694977 -0.97987077 -2.07543555  1.52127964]\n",
    "Generator biases [ 1.28972108 -2.58494766 -2.3415147   1.69107561]"
   ]
  },
  {
   "cell_type": "code",
   "execution_count": null,
   "metadata": {},
   "outputs": [],
   "source": []
  }
 ],
 "metadata": {
  "kernelspec": {
   "display_name": "Python 3",
   "language": "python",
   "name": "python3"
  },
  "language_info": {
   "codemirror_mode": {
    "name": "ipython",
    "version": 3
   },
   "file_extension": ".py",
   "mimetype": "text/x-python",
   "name": "python",
   "nbconvert_exporter": "python",
   "pygments_lexer": "ipython3",
   "version": "3.8.3"
  }
 },
 "nbformat": 4,
 "nbformat_minor": 4
}
